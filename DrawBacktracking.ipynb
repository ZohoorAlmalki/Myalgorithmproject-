{
 "cells": [
  {
   "cell_type": "code",
   "execution_count": 1,
   "id": "3a524577",
   "metadata": {},
   "outputs": [
    {
     "name": "stdout",
     "output_type": "stream",
     "text": [
      "Solution Exists: Following are the assigned colors\n",
      "1 2 2 2 1\n"
     ]
    },
    {
     "data": {
      "image/png": "[encoded data removed]",
      "text/plain": [
       "<Figure size 640x480 with 1 Axes>"
      ]
     },
     "metadata": {},
     "output_type": "display_data"
    }
   ],
   "source": [
    "import matplotlib.pyplot as plt\n",
    "import networkx as nx\n",
    "\n",
    "# Python Program for graph coloring using Backtracking\n",
    "V = 5\n",
    "\n",
    "\n",
    "def print_solution(color):\n",
    "    print(\"Solution Exists: Following are the assigned colors\")\n",
    "    print(\" \".join(map(str, color)))\n",
    "\n",
    "\n",
    "def is_safe(v, graph, color, c):\n",
    "    # Check if the color 'c' is safe for the vertex 'v'\n",
    "    for i in range(V):\n",
    "        if graph[v][i] and c == color[i]:\n",
    "            return False\n",
    "    return True\n",
    "\n",
    "\n",
    "def graph_coloring_util(graph, m, color, v):\n",
    "    # Base case: If all vertices are assigned a color, return true\n",
    "    if v == V:\n",
    "        return True\n",
    "\n",
    "    # Try different colors for the current vertex 'v'\n",
    "    for c in range(1, m + 1):\n",
    "        # Check if assignment of color 'c' to 'v' is fine\n",
    "        if is_safe(v, graph, color, c):\n",
    "            color[v] = c\n",
    "\n",
    "            # Recur to assign colors to the rest of the vertices\n",
    "            if graph_coloring_util(graph, m, color, v + 1):\n",
    "                return True\n",
    "\n",
    "            # If assigning color 'c' doesn't lead to a solution, remove it\n",
    "            color[v] = 0\n",
    "\n",
    "    # If no color can be assigned to this vertex, return false\n",
    "    return False\n",
    "\n",
    "def graph_coloring(graph, m, edges):\n",
    "    color = [0] * V\n",
    "\n",
    "    # Call graph_coloring_util() for vertex 0\n",
    "    if not graph_coloring_util(graph, m, color, 0):\n",
    "        print(\"Solution does not exist\")\n",
    "        return False\n",
    "\n",
    "    # Print the solution\n",
    "    print_solution(color) \n",
    "    draw_graph(edges, color)\n",
    "    return True\n",
    "\n",
    "def draw_graph(edges, color):\n",
    "    # Create a graph object and add edges\n",
    "    G = nx.Graph()\n",
    "    G.add_edges_from(edges)\n",
    "    color_map = []\n",
    "    for node in G:\n",
    "        color_map.append(color[node])   \n",
    "    # Draw the graph with spring layout and proper labels\n",
    "    pos = nx.spring_layout(G)\n",
    "    nx.draw(G, pos, node_color=color_map, with_labels=True, node_size=500, cmap=plt.cm.rainbow)\n",
    "    plt.show()\n",
    "\n",
    "\n",
    "# Driver code\n",
    "if __name__ == \"__main__\":\n",
    "    graph = [\n",
    "            [0, 1, 1, 1 ,0],\n",
    "            [1, 0, 0, 0, 0],\n",
    "            [1, 0, 0, 0, 1],\n",
    "            [1, 0, 0, 0, 1],\n",
    "            [0, 1, 0, 1, 0],\n",
    "    ]\n",
    "\n",
    "    m = 2\n",
    "\n",
    "    # Convert the adjacency matrix to a list of edges\n",
    "    edges = [(i, j) for i in range(len(graph)) for j in range(i, len(graph)) if graph[i][j] == 1]\n",
    "    \n",
    "    graph_coloring(graph, m, edges)\n",
    "\n",
    "    \n",
    "    \n"
   ]
  },
  {
   "cell_type": "markdown",
   "id": "aa5a01cc",
   "metadata": {},
   "source": [
    "## "
   ]
  },
  {
   "cell_type": "code",
   "execution_count": null,
   "id": "5bf37f08",
   "metadata": {},
   "outputs": [],
   "source": []
  }
 ],
 "metadata": {
  "kernelspec": {
   "display_name": "Python 3 (ipykernel)",
   "language": "python",
   "name": "python3"
  },
  "language_info": {
   "codemirror_mode": {
    "name": "ipython",
    "version": 3
   },
   "file_extension": ".py",
   "mimetype": "text/x-python",
   "name": "python",
   "nbconvert_exporter": "python",
   "pygments_lexer": "ipython3",
   "version": "3.11.5"
  }
 },
 "nbformat": 4,
 "nbformat_minor": 5
}
